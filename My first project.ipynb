{
 "cells": [
  {
   "cell_type": "markdown",
   "id": "60b75a16",
   "metadata": {},
   "source": [
    "My First project"
   ]
  },
  {
   "cell_type": "markdown",
   "id": "c806c09a",
   "metadata": {},
   "source": [
    "This is the introduction of the notebook."
   ]
  },
  {
   "cell_type": "markdown",
   "id": "1f5cc820",
   "metadata": {},
   "source": [
    "- Python\n",
    "- R\n",
    "- SQL"
   ]
  },
  {
   "cell_type": "markdown",
   "id": "4aa488e8",
   "metadata": {},
   "source": [
    "- NumPy\n",
    "- Pandas\n",
    "- Matplotlib"
   ]
  },
  {
   "cell_type": "markdown",
   "id": "077d86eb",
   "metadata": {},
   "source": [
    "| Tool         | Description                    |\n",
    "|--------------|--------------------------------|\n",
    "| Jupyter      | Interactive computing          |\n",
    "| VS Code      | Integrated development environment |\n",
    "| Git          | Version control system         |"
   ]
  },
  {
   "cell_type": "markdown",
   "id": "0a85fc35",
   "metadata": {},
   "source": [
    " This section provides examples of arithmetic expressions using Python.\n",
    "\n",
    "\n",
    "Example 1: Multiplication\n",
    "result_multiply = 5 * 3\n",
    "\n",
    "Example 2: Addition\n",
    "result_addition = 10 + 7"
   ]
  },
  {
   "cell_type": "code",
   "execution_count": 1,
   "id": "6383f3b0",
   "metadata": {},
   "outputs": [
    {
     "data": {
      "text/plain": [
       "2.0"
      ]
     },
     "execution_count": 1,
     "metadata": {},
     "output_type": "execute_result"
    }
   ],
   "source": [
    "# Function to convert minutes to hours\n",
    "def convert_minutes_to_hours(minutes):\n",
    "    hours = minutes / 60\n",
    "    return hours\n",
    "\n",
    "# Example usage\n",
    "convert_minutes_to_hours(120)"
   ]
  },
  {
   "cell_type": "markdown",
   "id": "d38a4d2d",
   "metadata": {},
   "source": [
    "Objectives\n",
    "\n",
    "Understand basic markdown usage.\n",
    "\n",
    "List common data science languages and libraries.\n",
    "\n",
    "Demonstrate arithmetic expressions in Python.\n",
    "\n",
    "Convert minutes to hours using Python code."
   ]
  },
  {
   "cell_type": "markdown",
   "id": "8ccef72a",
   "metadata": {},
   "source": [
    "Author\n",
    "\n",
    "Ivy"
   ]
  },
  {
   "cell_type": "code",
   "execution_count": null,
   "id": "04b0d92d",
   "metadata": {},
   "outputs": [],
   "source": []
  }
 ],
 "metadata": {
  "kernelspec": {
   "display_name": "Python 3 (ipykernel)",
   "language": "python",
   "name": "python3"
  },
  "language_info": {
   "codemirror_mode": {
    "name": "ipython",
    "version": 3
   },
   "file_extension": ".py",
   "mimetype": "text/x-python",
   "name": "python",
   "nbconvert_exporter": "python",
   "pygments_lexer": "ipython3",
   "version": "3.7.16"
  },
  "varInspector": {
   "cols": {
    "lenName": 16,
    "lenType": 16,
    "lenVar": 40
   },
   "kernels_config": {
    "python": {
     "delete_cmd_postfix": "",
     "delete_cmd_prefix": "del ",
     "library": "var_list.py",
     "varRefreshCmd": "print(var_dic_list())"
    },
    "r": {
     "delete_cmd_postfix": ") ",
     "delete_cmd_prefix": "rm(",
     "library": "var_list.r",
     "varRefreshCmd": "cat(var_dic_list()) "
    }
   },
   "types_to_exclude": [
    "module",
    "function",
    "builtin_function_or_method",
    "instance",
    "_Feature"
   ],
   "window_display": false
  }
 },
 "nbformat": 4,
 "nbformat_minor": 5
}
